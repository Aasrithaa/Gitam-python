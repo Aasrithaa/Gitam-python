{
 "cells": [
  {
   "cell_type": "markdown",
   "metadata": {},
   "source": [
    "### Standard Libraries\n",
    "- file I/O\n",
    "- Regular Expressions\n",
    "- Date time"
   ]
  },
  {
   "cell_type": "markdown",
   "metadata": {},
   "source": [
    "### File Heading in Python\n",
    "- File:- Document containing information resides on the permanent storage\n",
    "- Different types of files:-txt,doc,pdf,csv and etc..\n",
    "- Input -- Keyboard\n",
    "- Output -- File"
   ]
  },
  {
   "cell_type": "markdown",
   "metadata": {},
   "source": [
    "### modes of fike I/O\n"
   ]
  },
  {
   "cell_type": "code",
   "execution_count": 1,
   "metadata": {},
   "outputs": [
    {
     "name": "stdout",
     "output_type": "stream",
     "text": [
      "File is created and data has written\n"
     ]
    }
   ],
   "source": [
    "#Function to create a file and write to the file\n",
    "def createFile(filename):\n",
    "   f=open(filename,'w')\n",
    "   for i in range(10):\n",
    "       f.write('This is %d Line'%i)\n",
    "   print(\"File is created and data has written\")\n",
    "   return\n",
    "createFile('file1.txt')"
   ]
  },
  {
   "cell_type": "code",
   "execution_count": 2,
   "metadata": {},
   "outputs": [
    {
     "name": "stdout",
     "output_type": "stream",
     "text": [
      " Volume in drive C has no label.\n",
      " Volume Serial Number is 188C-05A9\n",
      "\n",
      " Directory of C:\\Users\\mplab\n",
      "\n",
      "11-07-2019  09:38    <DIR>          .\n",
      "11-07-2019  09:38    <DIR>          ..\n",
      "17-06-2019  09:27    <DIR>          .anaconda\n",
      "04-07-2019  12:36               791 .bash_history\n",
      "25-06-2019  15:55    <DIR>          .conda\n",
      "25-06-2019  09:40                43 .condarc\n",
      "11-07-2019  09:13    <DIR>          .ipynb_checkpoints\n",
      "17-06-2019  09:31    <DIR>          .ipython\n",
      "21-06-2019  14:28    <DIR>          .jupyter\n",
      "17-06-2019  09:26    <DIR>          Anaconda3\n",
      "10-07-2019  14:25             3,431 assesment(day-9).ipynb\n",
      "14-06-2019  15:22    <DIR>          Contacts\n",
      "28-06-2019  14:54            15,975 day 10.ipynb\n",
      "26-06-2019  10:21             5,291 day 8.ipynb\n",
      "26-06-2019  11:09             4,781 day 9.ipynb\n",
      "09-07-2019  10:09             5,649 day8.ipynb\n",
      "09-07-2019  16:04            10,968 day9.ipynb\n",
      "10-07-2019  12:56            10,318 daywise(10-07-19).ipynb\n",
      "06-07-2019  13:22    <DIR>          Desktop\n",
      "10-07-2019  13:03    <DIR>          Documents\n",
      "11-07-2019  09:35    <DIR>          Downloads\n",
      "14-06-2019  15:22    <DIR>          Favorites\n",
      "27-06-2019  12:18               184 file.txt\n",
      "11-07-2019  09:38               140 file1.txt\n",
      "19-06-2019  12:51    <DIR>          gitam-june-2019\n",
      "14-06-2019  15:22    <DIR>          Links\n",
      "08-07-2019  15:44             7,646 mahathi.ipynb\n",
      "14-06-2019  15:22    <DIR>          Music\n",
      "20-06-2019  16:06    <DIR>          Pictures\n",
      "14-06-2019  15:22    <DIR>          Saved Games\n",
      "14-06-2019  15:22    <DIR>          Searches\n",
      "25-06-2019  09:42               555 Untitled.ipynb\n",
      "27-06-2019  14:08                72 Untitled1.ipynb\n",
      "05-07-2019  12:39               845 Untitled2.ipynb\n",
      "08-07-2019  10:30             4,482 Untitled3.ipynb\n",
      "08-07-2019  12:56               555 Untitled4.ipynb\n",
      "08-07-2019  14:46             1,447 Untitled5.ipynb\n",
      "10-07-2019  12:22             7,195 Untitled6.ipynb\n",
      "08-07-2019  15:19               555 Untitled7.ipynb\n",
      "10-07-2019  10:58               989 Untitled8.ipynb\n",
      "11-07-2019  09:31             1,148 Untitled9.ipynb\n",
      "08-07-2019  16:09             6,126 ushasvi.ipynb\n",
      "14-06-2019  15:22    <DIR>          Videos\n",
      "              23 File(s)         89,186 bytes\n",
      "              20 Dir(s)  187,069,538,304 bytes free\n"
     ]
    }
   ],
   "source": [
    "ls"
   ]
  },
  {
   "cell_type": "code",
   "execution_count": 9,
   "metadata": {},
   "outputs": [
    {
     "ename": "IndentationError",
     "evalue": "unindent does not match any outer indentation level (<tokenize>, line 3)",
     "output_type": "error",
     "traceback": [
      "\u001b[1;36m  File \u001b[1;32m\"<tokenize>\"\u001b[1;36m, line \u001b[1;32m3\u001b[0m\n\u001b[1;33m    f.write('Testing..\\n')\u001b[0m\n\u001b[1;37m    ^\u001b[0m\n\u001b[1;31mIndentationError\u001b[0m\u001b[1;31m:\u001b[0m unindent does not match any outer indentation level\n"
     ]
    }
   ],
   "source": [
    "def createFile(filename):\n",
    "   f=open(filename,'w')\n",
    "  f.write('Testing..\\n')\n",
    "   print(\"File is created and data has written\")\n",
    "   return\n",
    "createFile('file1.txt')"
   ]
  },
  {
   "cell_type": "code",
   "execution_count": 10,
   "metadata": {},
   "outputs": [
    {
     "name": "stdout",
     "output_type": "stream",
     "text": [
      "FileCreated and Successfully data written\n"
     ]
    }
   ],
   "source": [
    "def appendData(filename):\n",
    "   f=open(filename,'a')\n",
    "   for i in range(10):\n",
    "       f.write(\"This is %d Line\\n\"%i)\n",
    "   print(\"FileCreated and Successfully data written\")\n",
    "   return\n",
    "appendData('file2.txt')\n"
   ]
  },
  {
   "cell_type": "code",
   "execution_count": 11,
   "metadata": {},
   "outputs": [
    {
     "name": "stdout",
     "output_type": "stream",
     "text": [
      "This is 0 Line\n",
      "This is 1 Line\n",
      "This is 2 Line\n",
      "This is 3 Line\n",
      "This is 4 Line\n",
      "This is 5 Line\n",
      "This is 6 Line\n",
      "This is 7 Line\n",
      "This is 8 Line\n",
      "This is 9 Line\n",
      "\n"
     ]
    }
   ],
   "source": [
    "#Function to read of the file\n",
    "def readFileData(filename):\n",
    "   f=open(filename,'r')\n",
    "   if f.mode=='r':\n",
    "       x=f.read()\n",
    "       print(x)\n",
    "   f.close()\n",
    "   return\n",
    "readFileData('file2.txt')"
   ]
  },
  {
   "cell_type": "code",
   "execution_count": 12,
   "metadata": {},
   "outputs": [
    {
     "name": "stdout",
     "output_type": "stream",
     "text": [
      "Enter the file namemp\n",
      "Enter the mode of the fileap\n"
     ]
    },
    {
     "ename": "NameError",
     "evalue": "name 'fileOperations' is not defined",
     "output_type": "error",
     "traceback": [
      "\u001b[1;31m---------------------------------------------------------------------------\u001b[0m",
      "\u001b[1;31mNameError\u001b[0m                                 Traceback (most recent call last)",
      "\u001b[1;32m<ipython-input-12-879682b4b9b8>\u001b[0m in \u001b[0;36m<module>\u001b[1;34m\u001b[0m\n\u001b[0;32m     12\u001b[0m \u001b[0mfilename\u001b[0m\u001b[1;33m=\u001b[0m\u001b[0minput\u001b[0m\u001b[1;33m(\u001b[0m\u001b[1;34m'Enter the file name'\u001b[0m\u001b[1;33m)\u001b[0m\u001b[1;33m\u001b[0m\u001b[1;33m\u001b[0m\u001b[0m\n\u001b[0;32m     13\u001b[0m \u001b[0mmode\u001b[0m\u001b[1;33m=\u001b[0m\u001b[0minput\u001b[0m\u001b[1;33m(\u001b[0m\u001b[1;34m'Enter the mode of the file'\u001b[0m\u001b[1;33m)\u001b[0m\u001b[1;33m\u001b[0m\u001b[1;33m\u001b[0m\u001b[0m\n\u001b[1;32m---> 14\u001b[1;33m \u001b[0mfileOperations\u001b[0m\u001b[1;33m(\u001b[0m\u001b[0mfilename\u001b[0m\u001b[1;33m,\u001b[0m\u001b[0mmode\u001b[0m\u001b[1;33m)\u001b[0m\u001b[1;33m\u001b[0m\u001b[1;33m\u001b[0m\u001b[0m\n\u001b[0m",
      "\u001b[1;31mNameError\u001b[0m: name 'fileOperations' is not defined"
     ]
    }
   ],
   "source": [
    "#Function to read the File\n",
    "def readFile2(filename,mode):\n",
    "   with open(filename,mode) as f:\n",
    "       if f.mode=='r':\n",
    "           data=f.read()\n",
    "           print(data)\n",
    "       elif f.mode=='a':\n",
    "           f.write('Data to the File')\n",
    "           print('The data successfully written')\n",
    "   f.close()\n",
    "   return\n",
    "filename=input('Enter the file name')\n",
    "mode=input('Enter the mode of the file')\n",
    "fileOperations(filename,mode)\n"
   ]
  },
  {
   "cell_type": "code",
   "execution_count": null,
   "metadata": {},
   "outputs": [],
   "source": [
    "#Function to read the File\n",
    "def readFile2(filename,mode):\n",
    "   with open(filename,mode) as f:\n",
    "       if f.mode=='r':\n",
    "           data=f.read()\n",
    "           print(data)\n",
    "       elif f.mode=='a':\n",
    "           f.write('Data to the File')\n",
    "           print('The data successfully written')\n",
    "   f.close()\n",
    "   return\n",
    "filename=input('Enter the file name')\n",
    "mode=input('Enter the mode of the file')\n",
    "fileOperations(filename,mode)\n"
   ]
  },
  {
   "cell_type": "code",
   "execution_count": 13,
   "metadata": {},
   "outputs": [
    {
     "ename": "SyntaxError",
     "evalue": "invalid syntax (<ipython-input-13-92360f7fd43f>, line 5)",
     "output_type": "error",
     "traceback": [
      "\u001b[1;36m  File \u001b[1;32m\"<ipython-input-13-92360f7fd43f>\"\u001b[1;36m, line \u001b[1;32m5\u001b[0m\n\u001b[1;33m    if f.mode='r':\u001b[0m\n\u001b[1;37m             ^\u001b[0m\n\u001b[1;31mSyntaxError\u001b[0m\u001b[1;31m:\u001b[0m invalid syntax\n"
     ]
    }
   ],
   "source": [
    "#Data Analysis\n",
    "#Word Count Program\n",
    "def wordCount(filename,word):\n",
    "   with open(filename,'r') as f:\n",
    "       if f.mode='r':\n",
    "           x=f.read()\n",
    "           li=x.split() # It's splits the string with whitespace\n",
    "   cnt=li.count(word)\n",
    "   return cnt\n",
    "filename=input('Enter the file name: ')\n",
    "word=input('Enter the word: ') # which word count you need\n",
    "wordCount(filename,word)\n"
   ]
  },
  {
   "cell_type": "code",
   "execution_count": 14,
   "metadata": {},
   "outputs": [
    {
     "name": "stdout",
     "output_type": "stream",
     "text": [
      "Enter the file namefile2.est\n",
      "Enter the mode of the filer\n"
     ]
    },
    {
     "ename": "FileNotFoundError",
     "evalue": "[Errno 2] No such file or directory: 'file2.est'",
     "output_type": "error",
     "traceback": [
      "\u001b[1;31m---------------------------------------------------------------------------\u001b[0m",
      "\u001b[1;31mFileNotFoundError\u001b[0m                         Traceback (most recent call last)",
      "\u001b[1;32m<ipython-input-14-622cc629df4e>\u001b[0m in \u001b[0;36m<module>\u001b[1;34m\u001b[0m\n\u001b[0;32m     12\u001b[0m \u001b[0mfilename\u001b[0m\u001b[1;33m=\u001b[0m\u001b[0minput\u001b[0m\u001b[1;33m(\u001b[0m\u001b[1;34m'Enter the file name'\u001b[0m\u001b[1;33m)\u001b[0m\u001b[1;33m\u001b[0m\u001b[1;33m\u001b[0m\u001b[0m\n\u001b[0;32m     13\u001b[0m \u001b[0mmode\u001b[0m\u001b[1;33m=\u001b[0m\u001b[0minput\u001b[0m\u001b[1;33m(\u001b[0m\u001b[1;34m'Enter the mode of the file'\u001b[0m\u001b[1;33m)\u001b[0m\u001b[1;33m\u001b[0m\u001b[1;33m\u001b[0m\u001b[0m\n\u001b[1;32m---> 14\u001b[1;33m \u001b[0mfileOperations\u001b[0m\u001b[1;33m(\u001b[0m\u001b[0mfilename\u001b[0m\u001b[1;33m,\u001b[0m\u001b[0mmode\u001b[0m\u001b[1;33m)\u001b[0m\u001b[1;33m\u001b[0m\u001b[1;33m\u001b[0m\u001b[0m\n\u001b[0m",
      "\u001b[1;32m<ipython-input-14-622cc629df4e>\u001b[0m in \u001b[0;36mfileOperations\u001b[1;34m(filename, mode)\u001b[0m\n\u001b[0;32m      1\u001b[0m \u001b[1;31m#Function to read the File\u001b[0m\u001b[1;33m\u001b[0m\u001b[1;33m\u001b[0m\u001b[1;33m\u001b[0m\u001b[0m\n\u001b[0;32m      2\u001b[0m \u001b[1;32mdef\u001b[0m \u001b[0mfileOperations\u001b[0m\u001b[1;33m(\u001b[0m\u001b[0mfilename\u001b[0m\u001b[1;33m,\u001b[0m\u001b[0mmode\u001b[0m\u001b[1;33m)\u001b[0m\u001b[1;33m:\u001b[0m\u001b[1;33m\u001b[0m\u001b[1;33m\u001b[0m\u001b[0m\n\u001b[1;32m----> 3\u001b[1;33m    \u001b[1;32mwith\u001b[0m \u001b[0mopen\u001b[0m\u001b[1;33m(\u001b[0m\u001b[0mfilename\u001b[0m\u001b[1;33m,\u001b[0m\u001b[0mmode\u001b[0m\u001b[1;33m)\u001b[0m \u001b[1;32mas\u001b[0m \u001b[0mf\u001b[0m\u001b[1;33m:\u001b[0m\u001b[1;33m\u001b[0m\u001b[1;33m\u001b[0m\u001b[0m\n\u001b[0m\u001b[0;32m      4\u001b[0m        \u001b[1;32mif\u001b[0m \u001b[0mf\u001b[0m\u001b[1;33m.\u001b[0m\u001b[0mmode\u001b[0m\u001b[1;33m==\u001b[0m\u001b[1;34m'r'\u001b[0m\u001b[1;33m:\u001b[0m\u001b[1;33m\u001b[0m\u001b[1;33m\u001b[0m\u001b[0m\n\u001b[0;32m      5\u001b[0m            \u001b[0mdata\u001b[0m\u001b[1;33m=\u001b[0m\u001b[0mf\u001b[0m\u001b[1;33m.\u001b[0m\u001b[0mread\u001b[0m\u001b[1;33m(\u001b[0m\u001b[1;33m)\u001b[0m\u001b[1;33m\u001b[0m\u001b[1;33m\u001b[0m\u001b[0m\n",
      "\u001b[1;31mFileNotFoundError\u001b[0m: [Errno 2] No such file or directory: 'file2.est'"
     ]
    }
   ],
   "source": [
    "#Function to read the File\n",
    "def fileOperations(filename,mode):\n",
    "   with open(filename,mode) as f:\n",
    "       if f.mode=='r':\n",
    "           data=f.read()\n",
    "           print(data)\n",
    "       elif f.mode=='a':\n",
    "           f.write('Data to the File')\n",
    "           print('The data successfully written')\n",
    "   f.close()\n",
    "   return\n",
    "filename=input('Enter the file name')\n",
    "mode=input('Enter the mode of the file')\n",
    "fileOperations(filename,mode)\n"
   ]
  },
  {
   "cell_type": "code",
   "execution_count": 15,
   "metadata": {},
   "outputs": [
    {
     "name": "stdout",
     "output_type": "stream",
     "text": [
      "Enter the filename:file2.txt\n"
     ]
    },
    {
     "data": {
      "text/plain": [
       "150"
      ]
     },
     "execution_count": 15,
     "metadata": {},
     "output_type": "execute_result"
    }
   ],
   "source": [
    "#character count from the given file\n",
    "def charCount(filename):\n",
    "   with open(filename,'r') as f:\n",
    "       if f.mode=='r':\n",
    "           x=f.read()\n",
    "           li=list(x)\n",
    "   return len(li)\n",
    "filename=input('Enter the filename:')\n",
    "charCount(filename)\n"
   ]
  },
  {
   "cell_type": "code",
   "execution_count": 16,
   "metadata": {},
   "outputs": [
    {
     "name": "stdout",
     "output_type": "stream",
     "text": [
      "['Python Progr', 'mming']\n"
     ]
    }
   ],
   "source": [
    "s1=\"Python Programming\"\n",
    "print(s1.split('a'))"
   ]
  },
  {
   "cell_type": "code",
   "execution_count": 17,
   "metadata": {},
   "outputs": [
    {
     "name": "stdout",
     "output_type": "stream",
     "text": [
      "Enter the filename :file2.txt\n"
     ]
    },
    {
     "data": {
      "text/plain": [
       "11"
      ]
     },
     "execution_count": 17,
     "metadata": {},
     "output_type": "execute_result"
    }
   ],
   "source": [
    "#Function to find the no of lines in the input file\n",
    "#Input--filename(file2.txt)\n",
    "#output--No of lines(12)\n",
    "def countOfLines(filename):\n",
    "   with open(filename,'r') as f:\n",
    "       if f.mode=='r':\n",
    "           x=f.read()\n",
    "           li=x.split(\"\\n\")\n",
    "   return len(li)\n",
    "filename=input('Enter the filename :')\n",
    "countOfLines(filename)\n"
   ]
  },
  {
   "cell_type": "code",
   "execution_count": 18,
   "metadata": {},
   "outputs": [
    {
     "name": "stdout",
     "output_type": "stream",
     "text": [
      "Enter the filename :file2.txt\n"
     ]
    },
    {
     "data": {
      "text/plain": [
       "'Upper Case=20,Lower Case=80'"
      ]
     },
     "execution_count": 18,
     "metadata": {},
     "output_type": "execute_result"
    }
   ],
   "source": [
    "#Function to print the Upper and Lower characters\n",
    "def caseCount(filename):\n",
    "   cntUpper=0\n",
    "   cntLower=0\n",
    "   with open(filename,'r') as f:\n",
    "       if f.mode=='r':\n",
    "           x=f.read()\n",
    "           li=list(x)\n",
    "   for i in li:\n",
    "       if i.isupper():\n",
    "           cntUpper+=1 #cntUpper=cntUpper+1\n",
    "       elif i.islower():\n",
    "           cntLower+=1 #cntLower=cntLower+1\n",
    "   output='Upper Case={0},Lower Case={1}'.format(cntUpper,cntLower)\n",
    "   return output\n",
    "filename=input('Enter the filename :')\n",
    "caseCount(filename)\n"
   ]
  },
  {
   "cell_type": "markdown",
   "metadata": {},
   "source": [
    "### math,random,os\n",
    "os package it contains the certains methods which works with OS"
   ]
  },
  {
   "cell_type": "markdown",
   "metadata": {},
   "source": [
    "mport os\n",
    "dirPath=\"Git/\"\n",
    "for i in os.listdir(dirPath):\n",
    "   if os.path.isfile(os.path.join()\n"
   ]
  },
  {
   "cell_type": "code",
   "execution_count": null,
   "metadata": {},
   "outputs": [],
   "source": []
  },
  {
   "cell_type": "code",
   "execution_count": null,
   "metadata": {},
   "outputs": [],
   "source": []
  }
 ],
 "metadata": {
  "kernelspec": {
   "display_name": "Python 3",
   "language": "python",
   "name": "python3"
  },
  "language_info": {
   "codemirror_mode": {
    "name": "ipython",
    "version": 3
   },
   "file_extension": ".py",
   "mimetype": "text/x-python",
   "name": "python",
   "nbconvert_exporter": "python",
   "pygments_lexer": "ipython3",
   "version": "3.7.3"
  }
 },
 "nbformat": 4,
 "nbformat_minor": 2
}
